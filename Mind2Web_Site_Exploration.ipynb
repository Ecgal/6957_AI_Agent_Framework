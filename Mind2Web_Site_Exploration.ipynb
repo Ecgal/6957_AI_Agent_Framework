{
 "cells": [
  {
   "cell_type": "code",
   "id": "initial_id",
   "metadata": {
    "collapsed": true,
    "ExecuteTime": {
     "end_time": "2025-09-16T22:20:21.153464Z",
     "start_time": "2025-09-16T22:20:02.461530Z"
    }
   },
   "source": [
    "from datasets import load_dataset\n",
    "from collections import defaultdict\n",
    "from IPython.display import HTML, Image\n",
    "\n",
    "#load the Mind2 sets\n",
    "ds = load_dataset(\"osunlp/Multimodal-Mind2Web\", split=\"train\")\n",
    "\n",
    "#Pull the subdomains which is the categories we are concerned with. Subdomain is a dictionary.\n",
    "subdomains_by_domain = defaultdict(set)\n",
    "ds = ds.remove_columns([\"screenshot\"])\n",
    "for row in ds:\n",
    "    subdomains_by_domain[row[\"domain\"]].add(row[\"subdomain\"])\n",
    "\n",
    "for d, subs in subdomains_by_domain.items():\n",
    "    print(f\"\\n{d}\")\n",
    "    print(sorted(list(subs)))\n"
   ],
   "outputs": [
    {
     "data": {
      "text/plain": [
       "Resolving data files:   0%|          | 0/27 [00:00<?, ?it/s]"
      ],
      "application/vnd.jupyter.widget-view+json": {
       "version_major": 2,
       "version_minor": 0,
       "model_id": "e8c940fa4b714efcb2f4664967141d7d"
      }
     },
     "metadata": {},
     "output_type": "display_data"
    },
    {
     "data": {
      "text/plain": [
       "Loading dataset shards:   0%|          | 0/23 [00:00<?, ?it/s]"
      ],
      "application/vnd.jupyter.widget-view+json": {
       "version_major": 2,
       "version_minor": 0,
       "model_id": "44b2e5fd15e54fe9bc2947ceacfd9e33"
      }
     },
     "metadata": {},
     "output_type": "display_data"
    },
    {
     "name": "stdout",
     "output_type": "stream",
     "text": [
      "\n",
      "Travel\n",
      "['Airlines', 'Car rental', 'General', 'Ground', 'Hotel', 'Other', 'Restaurant']\n",
      "\n",
      "Entertainment\n",
      "['Event', 'Game', 'Movie', 'Music', 'Sports']\n",
      "\n",
      "Shopping\n",
      "['Auto', 'Department', 'Digital', 'Fashion', 'General', 'Speciality']\n"
     ]
    }
   ],
   "execution_count": 4
  },
  {
   "metadata": {
    "ExecuteTime": {
     "end_time": "2025-09-16T22:20:33.115346Z",
     "start_time": "2025-09-16T22:20:21.186079Z"
    }
   },
   "cell_type": "code",
   "source": [
    "# Filter down to the domain and sub domain\n",
    "auto_sites = ds.filter(lambda fil: fil[\"domain\"] == \"Shopping\" and fil[\"subdomain\"] == \"Auto\")\n",
    "\n",
    "print(f\"Found {len(auto_sites)} examples in Shopping/Auto\")\n",
    "print(\"Example websites:\", set(auto_sites[\"website\"]))"
   ],
   "id": "df56ec14eb20b849",
   "outputs": [
    {
     "data": {
      "text/plain": [
       "Filter:   0%|          | 0/7775 [00:00<?, ? examples/s]"
      ],
      "application/vnd.jupyter.widget-view+json": {
       "version_major": 2,
       "version_minor": 0,
       "model_id": "04ac96a1ce314f728052bd524f59a70b"
      }
     },
     "metadata": {},
     "output_type": "display_data"
    },
    {
     "name": "stdout",
     "output_type": "stream",
     "text": [
      "Found 545 examples in Shopping/Auto\n",
      "Example websites: {'tesla', 'cargurus', 'carmax', 'kbb'}\n"
     ]
    }
   ],
   "execution_count": 5
  },
  {
   "metadata": {
    "ExecuteTime": {
     "end_time": "2025-09-16T22:27:57.522534Z",
     "start_time": "2025-09-16T22:27:57.408023Z"
    }
   },
   "cell_type": "code",
   "source": [
    "# after selecting the site export the site\n",
    "\n",
    "import os\n",
    "\n",
    "def export_site(ds, website_name, out_dir):\n",
    "    site_pages = ds.filter(lambda ex: ex[\"website\"] == website_name)\n",
    "    print(f\"Found {len(site_pages)} files for {website_name}\")\n",
    "\n",
    "    os.makedirs(out_dir, exist_ok=True)\n",
    "\n",
    "    for i, page in enumerate(site_pages):\n",
    "        out_path = os.path.join(out_dir, f\"{website_name}_{i}.html\")\n",
    "        with open(out_path, \"w\", encoding=\"utf-8\") as f:\n",
    "            f.write(page[\"raw_html\"])\n",
    "    print(f\"Exported {len(site_pages)} pages to: {out_dir}\")\n",
    "\n",
    "\n",
    "\n",
    "export_site(ds,\"tesla\", \"environments/02_Shopping_Auto_Tesla\")"
   ],
   "id": "eccf821f5f4573c3",
   "outputs": [
    {
     "name": "stdout",
     "output_type": "stream",
     "text": [
      "Found 71 files for tesla\n",
      "Exported 71 pages to: environments/02_Shopping_Auto_Tesla\n"
     ]
    }
   ],
   "execution_count": 11
  }
 ],
 "metadata": {
  "kernelspec": {
   "display_name": "Python 3",
   "language": "python",
   "name": "python3"
  },
  "language_info": {
   "codemirror_mode": {
    "name": "ipython",
    "version": 2
   },
   "file_extension": ".py",
   "mimetype": "text/x-python",
   "name": "python",
   "nbconvert_exporter": "python",
   "pygments_lexer": "ipython2",
   "version": "2.7.6"
  }
 },
 "nbformat": 4,
 "nbformat_minor": 5
}
